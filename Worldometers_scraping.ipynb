{
  "nbformat": 4,
  "nbformat_minor": 0,
  "metadata": {
    "colab": {
      "provenance": [],
      "authorship_tag": "ABX9TyPDrS2p8QH3zqp5NlIgZZLy",
      "include_colab_link": true
    },
    "kernelspec": {
      "name": "python3",
      "display_name": "Python 3"
    },
    "language_info": {
      "name": "python"
    }
  },
  "cells": [
    {
      "cell_type": "markdown",
      "metadata": {
        "id": "view-in-github",
        "colab_type": "text"
      },
      "source": [
        "<a href=\"https://colab.research.google.com/github/Chaimaferdia/Tp-Big-Data-Analytics/blob/main/Worldometers_scraping.ipynb\" target=\"_parent\"><img src=\"https://colab.research.google.com/assets/colab-badge.svg\" alt=\"Open In Colab\"/></a>"
      ]
    },
    {
      "cell_type": "code",
      "source": [
        "import requests\n",
        "from bs4 import BeautifulSoup\n",
        "import pandas as pd\n",
        "import time\n",
        "import os\n",
        "import unicodedata\n",
        "import re\n",
        "\n",
        "os.makedirs(\"/content/data\", exist_ok=True)\n",
        "\n",
        "def scrape_table(url, table_id=None):\n",
        "    headers = {\n",
        "        'User-Agent': 'Mozilla/5.0 (Windows NT 10.0; Win64; x64) AppleWebKit/537.36 (KHTML, like Gecko) Chrome/91.0.4472.124 Safari/537.36'\n",
        "    }\n",
        "\n",
        "    try:\n",
        "        response = requests.get(url, headers=headers)\n",
        "        response.encoding = 'utf-8'\n",
        "        response.raise_for_status()\n",
        "\n",
        "        soup = BeautifulSoup(response.text, \"html.parser\")\n",
        "        table = soup.find(\"table\", id=table_id) if table_id else soup.find(\"table\")\n",
        "\n",
        "        if not table:\n",
        "            print(f\"There is no table {url}\")\n",
        "            return None\n",
        "\n",
        "        headers = []\n",
        "        for th in table.find_all(\"th\"):\n",
        "            header_text = clean_text(th.text.strip())\n",
        "            headers.append(header_text)\n",
        "\n",
        "        rows = []\n",
        "        for row in table.find_all(\"tr\"):\n",
        "            cols = []\n",
        "            for td in row.find_all(\"td\"):\n",
        "                cell_text = clean_text(td.text.strip())\n",
        "                cols.append(cell_text)\n",
        "            if cols:\n",
        "                rows.append(cols)\n",
        "\n",
        "        if headers and rows:\n",
        "            df = pd.DataFrame(rows, columns=headers)\n",
        "        else:\n",
        "            df = pd.DataFrame(rows)\n",
        "\n",
        "        return df\n",
        "\n",
        "    except Exception as e:\n",
        "        print(f\"Data loading error from {url}: {e}\")\n",
        "        return None\n",
        "\n",
        "def clean_text(text):\n",
        "    if not isinstance(text, str):\n",
        "        return text\n",
        "\n",
        "    text = text.replace('−', '-').replace('–', '-').replace('—', '-')\n",
        "    text = text.replace('â', '-')\n",
        "\n",
        "    text = unicodedata.normalize('NFKD', text)\n",
        "    text = re.sub(r'[^\\x00-\\x7F\\u0600-\\u06FF\\u0750-\\u077F\\u08A0-\\u08FF\\uFB50-\\uFDFF\\uFE70-\\uFEFF]+', ' ', text)\n",
        "    text = re.sub(r'\\s+', ' ', text).strip()\n",
        "\n",
        "    return text\n",
        "\n",
        "def clean_dataframe(df):\n",
        "    if df is None or df.empty:\n",
        "        return df\n",
        "\n",
        "    for col in df.columns:\n",
        "        if df[col].dtype == 'object':\n",
        "            df[col] = df[col].apply(clean_text)\n",
        "\n",
        "    return df\n",
        "\n",
        "pages = {\n",
        "    \"coronavirus\": (\"https://www.worldometers.info/coronavirus/\", \"main_table_countries_today\"),\n",
        "    \"population\": (\"https://www.worldometers.info/world-population/population-by-country/\", None),\n",
        "    \"gdp\": (\"https://www.worldometers.info/gdp/gdp-by-country/\", None),\n",
        "    \"energy\": (\"https://www.worldometers.info/energy/\", None),\n",
        "    \"oil_reserves\": (\"https://www.worldometers.info/oil/\", None),\n",
        "    \"oil_production\": (\"https://www.worldometers.info/oil/oil-production-by-country/\", None),\n",
        "    \"oil_consumption\": (\"https://www.worldometers.info/oil/oil-consumption-by-country/\", None),\n",
        "    \"coal\": (\"https://www.worldometers.info/coal/\", None),\n",
        "    \"gas\": (\"https://www.worldometers.info/gas/\", None),\n",
        "    \"water_usage\": (\"https://www.worldometers.info/water/\", None),\n",
        "    \"co2\": (\"https://www.worldometers.info/co2-emissions/\", None),\n",
        "}\n",
        "\n",
        "for name, (url, tid) in pages.items():\n",
        "    print(f\"Data loading  {name}...\")\n",
        "    df = scrape_table(url, tid)\n",
        "    if df is not None:\n",
        "        df = clean_dataframe(df)\n",
        "        path = f\"/content/data/{name}.csv\"\n",
        "        df.to_csv(path, index=False, encoding='utf-8-sig')\n",
        "    else:\n",
        "        print(f\"Failed to load data {name}\")\n",
        "    time.sleep(3)\n",
        "\n",
        "print(\"\\n The process is done\")"
      ],
      "metadata": {
        "colab": {
          "base_uri": "https://localhost:8080/"
        },
        "collapsed": true,
        "id": "UYdoDhK7OrYh",
        "outputId": "1561e6a7-795a-4d18-afee-500be7a784f5"
      },
      "execution_count": 16,
      "outputs": [
        {
          "output_type": "stream",
          "name": "stdout",
          "text": [
            "Data loading  coronavirus...\n",
            "Data loading  population...\n",
            "Data loading  gdp...\n",
            "Data loading  energy...\n",
            "Data loading  oil_reserves...\n",
            "Data loading  oil_production...\n",
            "Data loading  oil_consumption...\n",
            "Data loading  coal...\n",
            "Data loading  gas...\n",
            "Data loading  water_usage...\n",
            "Data loading  co2...\n",
            "\n",
            " The process is done\n"
          ]
        }
      ]
    }
  ]
}